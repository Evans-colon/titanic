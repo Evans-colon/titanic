{
 "cells": [
  {
   "cell_type": "code",
   "execution_count": 1,
   "metadata": {},
   "outputs": [],
   "source": [
    "import pandas as pd\n",
    "import numpy as np\n",
    "import matplotlib.pyplot as plt\n",
    "import seaborn as sns\n",
    "from sklearn.preprocessing import OneHotEncoder\n",
    "from sklearn.model_selection import train_test_split\n",
    "from sklearn.linear_model import LogisticRegression\n",
    "from sklearn.ensemble import RandomForestClassifier\n",
    "from sklearn.linear_model import Perceptron\n",
    "from sklearn.linear_model import SGDClassifier\n",
    "from sklearn.tree import DecisionTreeClassifier\n",
    "from sklearn.neighbors import KNeighborsClassifier\n",
    "from sklearn.svm import SVC, LinearSVC\n",
    "from sklearn.naive_bayes import GaussianNB\n"
   ]
  },
  {
   "cell_type": "markdown",
   "metadata": {},
   "source": [
    "we want to import the train and test data but will only be working on the train data"
   ]
  },
  {
   "cell_type": "code",
   "execution_count": 2,
   "metadata": {},
   "outputs": [],
   "source": [
    "train_data = pd.read_csv(\"train.csv\")\n",
    "test_data = pd.read_csv(\"test.csv\")\n",
    "total_data = pd.concat([test_data.assign(ind=\"test\"), train_data.assign(ind=\"train\")])"
   ]
  },
  {
   "cell_type": "markdown",
   "metadata": {},
   "source": [
    "DATA EXPLORATION AND ANALYSIS\n"
   ]
  },
  {
   "cell_type": "markdown",
   "metadata": {},
   "source": [
    "It is necessary we look at the information about each column"
   ]
  },
  {
   "cell_type": "markdown",
   "metadata": {},
   "source": [
    "Next, we take a look at the missing values and also what percent of data point is missing in our columns"
   ]
  },
  {
   "cell_type": "code",
   "execution_count": 3,
   "metadata": {},
   "outputs": [],
   "source": [
    "total_data.columns = [\"id\", \"p_class\", \"name\", \"sex\", \"age\", \"sibling_spouse\", \"parch\", \"ticket\", \"fare\", \"cabin\", \"embarked\", \"ind\", \"survived\"]"
   ]
  },
  {
   "cell_type": "code",
   "execution_count": 4,
   "metadata": {},
   "outputs": [
    {
     "data": {
      "text/html": [
       "<div>\n",
       "<style scoped>\n",
       "    .dataframe tbody tr th:only-of-type {\n",
       "        vertical-align: middle;\n",
       "    }\n",
       "\n",
       "    .dataframe tbody tr th {\n",
       "        vertical-align: top;\n",
       "    }\n",
       "\n",
       "    .dataframe thead th {\n",
       "        text-align: right;\n",
       "    }\n",
       "</style>\n",
       "<table border=\"1\" class=\"dataframe\">\n",
       "  <thead>\n",
       "    <tr style=\"text-align: right;\">\n",
       "      <th></th>\n",
       "      <th>sum_missing</th>\n",
       "      <th>percent missing</th>\n",
       "    </tr>\n",
       "  </thead>\n",
       "  <tbody>\n",
       "    <tr>\n",
       "      <th>PassengerId</th>\n",
       "      <td>0</td>\n",
       "      <td>0.000000</td>\n",
       "    </tr>\n",
       "    <tr>\n",
       "      <th>Survived</th>\n",
       "      <td>0</td>\n",
       "      <td>0.000000</td>\n",
       "    </tr>\n",
       "    <tr>\n",
       "      <th>Pclass</th>\n",
       "      <td>0</td>\n",
       "      <td>0.000000</td>\n",
       "    </tr>\n",
       "    <tr>\n",
       "      <th>Name</th>\n",
       "      <td>0</td>\n",
       "      <td>0.000000</td>\n",
       "    </tr>\n",
       "    <tr>\n",
       "      <th>Sex</th>\n",
       "      <td>0</td>\n",
       "      <td>0.000000</td>\n",
       "    </tr>\n",
       "    <tr>\n",
       "      <th>Age</th>\n",
       "      <td>177</td>\n",
       "      <td>19.865320</td>\n",
       "    </tr>\n",
       "    <tr>\n",
       "      <th>SibSp</th>\n",
       "      <td>0</td>\n",
       "      <td>0.000000</td>\n",
       "    </tr>\n",
       "    <tr>\n",
       "      <th>Parch</th>\n",
       "      <td>0</td>\n",
       "      <td>0.000000</td>\n",
       "    </tr>\n",
       "    <tr>\n",
       "      <th>Ticket</th>\n",
       "      <td>0</td>\n",
       "      <td>0.000000</td>\n",
       "    </tr>\n",
       "    <tr>\n",
       "      <th>Fare</th>\n",
       "      <td>0</td>\n",
       "      <td>0.000000</td>\n",
       "    </tr>\n",
       "    <tr>\n",
       "      <th>Cabin</th>\n",
       "      <td>687</td>\n",
       "      <td>77.104377</td>\n",
       "    </tr>\n",
       "    <tr>\n",
       "      <th>Embarked</th>\n",
       "      <td>2</td>\n",
       "      <td>0.224467</td>\n",
       "    </tr>\n",
       "  </tbody>\n",
       "</table>\n",
       "</div>"
      ],
      "text/plain": [
       "             sum_missing  percent missing\n",
       "PassengerId            0         0.000000\n",
       "Survived               0         0.000000\n",
       "Pclass                 0         0.000000\n",
       "Name                   0         0.000000\n",
       "Sex                    0         0.000000\n",
       "Age                  177        19.865320\n",
       "SibSp                  0         0.000000\n",
       "Parch                  0         0.000000\n",
       "Ticket                 0         0.000000\n",
       "Fare                   0         0.000000\n",
       "Cabin                687        77.104377\n",
       "Embarked               2         0.224467"
      ]
     },
     "execution_count": 4,
     "metadata": {},
     "output_type": "execute_result"
    }
   ],
   "source": [
    "missing_data = pd.DataFrame({\"sum_missing\" : train_data.isna().sum(),\n",
    "                \"percent missing\" : train_data.isna().sum()/891 * 100 })\n",
    "missing_data"
   ]
  },
  {
   "cell_type": "code",
   "execution_count": 5,
   "metadata": {},
   "outputs": [
    {
     "data": {
      "text/html": [
       "<div>\n",
       "<style scoped>\n",
       "    .dataframe tbody tr th:only-of-type {\n",
       "        vertical-align: middle;\n",
       "    }\n",
       "\n",
       "    .dataframe tbody tr th {\n",
       "        vertical-align: top;\n",
       "    }\n",
       "\n",
       "    .dataframe thead th {\n",
       "        text-align: right;\n",
       "    }\n",
       "</style>\n",
       "<table border=\"1\" class=\"dataframe\">\n",
       "  <thead>\n",
       "    <tr style=\"text-align: right;\">\n",
       "      <th></th>\n",
       "      <th>PassengerId</th>\n",
       "      <th>Survived</th>\n",
       "      <th>Pclass</th>\n",
       "      <th>Age</th>\n",
       "      <th>SibSp</th>\n",
       "      <th>Parch</th>\n",
       "      <th>Fare</th>\n",
       "    </tr>\n",
       "  </thead>\n",
       "  <tbody>\n",
       "    <tr>\n",
       "      <th>count</th>\n",
       "      <td>891.000000</td>\n",
       "      <td>891.000000</td>\n",
       "      <td>891.000000</td>\n",
       "      <td>714.000000</td>\n",
       "      <td>891.000000</td>\n",
       "      <td>891.000000</td>\n",
       "      <td>891.000000</td>\n",
       "    </tr>\n",
       "    <tr>\n",
       "      <th>mean</th>\n",
       "      <td>446.000000</td>\n",
       "      <td>0.383838</td>\n",
       "      <td>2.308642</td>\n",
       "      <td>29.699118</td>\n",
       "      <td>0.523008</td>\n",
       "      <td>0.381594</td>\n",
       "      <td>32.204208</td>\n",
       "    </tr>\n",
       "    <tr>\n",
       "      <th>std</th>\n",
       "      <td>257.353842</td>\n",
       "      <td>0.486592</td>\n",
       "      <td>0.836071</td>\n",
       "      <td>14.526497</td>\n",
       "      <td>1.102743</td>\n",
       "      <td>0.806057</td>\n",
       "      <td>49.693429</td>\n",
       "    </tr>\n",
       "    <tr>\n",
       "      <th>min</th>\n",
       "      <td>1.000000</td>\n",
       "      <td>0.000000</td>\n",
       "      <td>1.000000</td>\n",
       "      <td>0.420000</td>\n",
       "      <td>0.000000</td>\n",
       "      <td>0.000000</td>\n",
       "      <td>0.000000</td>\n",
       "    </tr>\n",
       "    <tr>\n",
       "      <th>25%</th>\n",
       "      <td>223.500000</td>\n",
       "      <td>0.000000</td>\n",
       "      <td>2.000000</td>\n",
       "      <td>20.125000</td>\n",
       "      <td>0.000000</td>\n",
       "      <td>0.000000</td>\n",
       "      <td>7.910400</td>\n",
       "    </tr>\n",
       "    <tr>\n",
       "      <th>50%</th>\n",
       "      <td>446.000000</td>\n",
       "      <td>0.000000</td>\n",
       "      <td>3.000000</td>\n",
       "      <td>28.000000</td>\n",
       "      <td>0.000000</td>\n",
       "      <td>0.000000</td>\n",
       "      <td>14.454200</td>\n",
       "    </tr>\n",
       "    <tr>\n",
       "      <th>75%</th>\n",
       "      <td>668.500000</td>\n",
       "      <td>1.000000</td>\n",
       "      <td>3.000000</td>\n",
       "      <td>38.000000</td>\n",
       "      <td>1.000000</td>\n",
       "      <td>0.000000</td>\n",
       "      <td>31.000000</td>\n",
       "    </tr>\n",
       "    <tr>\n",
       "      <th>max</th>\n",
       "      <td>891.000000</td>\n",
       "      <td>1.000000</td>\n",
       "      <td>3.000000</td>\n",
       "      <td>80.000000</td>\n",
       "      <td>8.000000</td>\n",
       "      <td>6.000000</td>\n",
       "      <td>512.329200</td>\n",
       "    </tr>\n",
       "  </tbody>\n",
       "</table>\n",
       "</div>"
      ],
      "text/plain": [
       "       PassengerId    Survived      Pclass         Age       SibSp  \\\n",
       "count   891.000000  891.000000  891.000000  714.000000  891.000000   \n",
       "mean    446.000000    0.383838    2.308642   29.699118    0.523008   \n",
       "std     257.353842    0.486592    0.836071   14.526497    1.102743   \n",
       "min       1.000000    0.000000    1.000000    0.420000    0.000000   \n",
       "25%     223.500000    0.000000    2.000000   20.125000    0.000000   \n",
       "50%     446.000000    0.000000    3.000000   28.000000    0.000000   \n",
       "75%     668.500000    1.000000    3.000000   38.000000    1.000000   \n",
       "max     891.000000    1.000000    3.000000   80.000000    8.000000   \n",
       "\n",
       "            Parch        Fare  \n",
       "count  891.000000  891.000000  \n",
       "mean     0.381594   32.204208  \n",
       "std      0.806057   49.693429  \n",
       "min      0.000000    0.000000  \n",
       "25%      0.000000    7.910400  \n",
       "50%      0.000000   14.454200  \n",
       "75%      0.000000   31.000000  \n",
       "max      6.000000  512.329200  "
      ]
     },
     "execution_count": 5,
     "metadata": {},
     "output_type": "execute_result"
    }
   ],
   "source": [
    "train_data.describe()"
   ]
  },
  {
   "cell_type": "markdown",
   "metadata": {},
   "source": [
    "We can see that there are 177 missing age values, 687 missing cabin values and 2 missing age values."
   ]
  },
  {
   "cell_type": "markdown",
   "metadata": {},
   "source": [
    "DATA CLEANING"
   ]
  },
  {
   "cell_type": "markdown",
   "metadata": {},
   "source": [
    "It is necessary to create new features so that we can be able to get insights from our data. we converted some numerical features to category and also categorical features to numericals"
   ]
  },
  {
   "cell_type": "code",
   "execution_count": 6,
   "metadata": {},
   "outputs": [],
   "source": [
    "sex = {\"male\": 0, \"female\": 1}\n",
    "total_data  [\"no_of_relatives\"] = total_data[\"sibling_spouse\"] + total_data[\"parch\"]\n",
    "total_data[\"sex_cat\"] = total_data[\"sex\"].map(sex)\n"
   ]
  },
  {
   "cell_type": "code",
   "execution_count": 7,
   "metadata": {},
   "outputs": [],
   "source": [
    "total_data.age = total_data.age.fillna(0)\n"
   ]
  },
  {
   "cell_type": "code",
   "execution_count": 8,
   "metadata": {},
   "outputs": [],
   "source": [
    "def relative(x):\n",
    "    if x > 0:\n",
    "        return 1\n",
    "    else:\n",
    "        return 0\n",
    "     \n",
    "    \n",
    "total_data[\"not_alone\"] = total_data[\"no_of_relatives\"].apply(relative)\n"
   ]
  },
  {
   "cell_type": "code",
   "execution_count": 9,
   "metadata": {},
   "outputs": [],
   "source": [
    "encoder = OneHotEncoder(handle_unknown=\"ignore\")\n",
    "encoder_embark = pd.DataFrame(encoder.fit_transform(total_data[[\"embarked\"]]).toarray())\n",
    "join_embark = total_data.join(encoder_embark)"
   ]
  },
  {
   "cell_type": "code",
   "execution_count": 10,
   "metadata": {},
   "outputs": [],
   "source": [
    "total_data.fare = pd.cut(total_data.fare,\n",
    "                         bins = [0., 8.0, 14.0, 31.0, 99.0, 250.0, 400.0, np.inf],\n",
    "                         labels=[1, 2, 3, 4, 5, 6, 7])"
   ]
  },
  {
   "cell_type": "code",
   "execution_count": 11,
   "metadata": {},
   "outputs": [],
   "source": [
    "total_data.drop([\"ticket\", \"id\", \"name\", \"sex\", \"cabin\", \"embarked\", \"age\"], axis = 1, inplace = True)"
   ]
  },
  {
   "cell_type": "code",
   "execution_count": 12,
   "metadata": {},
   "outputs": [
    {
     "data": {
      "text/plain": [
       "0"
      ]
     },
     "execution_count": 12,
     "metadata": {},
     "output_type": "execute_result"
    }
   ],
   "source": [
    "test,train = total_data[total_data[\"ind\"].eq(\"test\")], total_data[total_data[\"ind\"].eq(\"train\")] \n",
    "train.survived.isna().sum()\n",
    "# train[\"survived\"] = train[\"survived\"].fillna(0)\n",
    "# test[\"survived\"] = test[\"survived\"].fillna(0)"
   ]
  },
  {
   "cell_type": "code",
   "execution_count": 13,
   "metadata": {},
   "outputs": [],
   "source": [
    "train_data = train.drop([\"ind\"], axis = 1)\n",
    "test_data = test.drop([\"ind\"], axis = 1)\n",
    "X = train_data.drop([\"survived\"], axis = 1)\n",
    "y = test_data.survived\n",
    "X_train, y_train = train_test_split(train_data, test_size= 0.3)\n",
    "X_test, y_test = train_test_split(test_data, test_size=0.3)"
   ]
  },
  {
   "cell_type": "code",
   "execution_count": 14,
   "metadata": {},
   "outputs": [
    {
     "ename": "ValueError",
     "evalue": "Input X contains NaN.\nLogisticRegression does not accept missing values encoded as NaN natively. For supervised learning, you might want to consider sklearn.ensemble.HistGradientBoostingClassifier and Regressor which accept missing values encoded as NaNs natively. Alternatively, it is possible to preprocess the data, for instance by using an imputer transformer in a pipeline or drop samples with missing values. See https://scikit-learn.org/stable/modules/impute.html You can find a list of all estimators that handle NaN values at the following page: https://scikit-learn.org/stable/modules/impute.html#estimators-that-handle-nan-values",
     "output_type": "error",
     "traceback": [
      "\u001b[1;31m---------------------------------------------------------------------------\u001b[0m",
      "\u001b[1;31mValueError\u001b[0m                                Traceback (most recent call last)",
      "\u001b[1;32mc:\\Users\\Elearning Institute\\titanic\\titanic_model.ipynb Cell 21'\u001b[0m in \u001b[0;36m<cell line: 2>\u001b[1;34m()\u001b[0m\n\u001b[0;32m      <a href='vscode-notebook-cell:/c%3A/Users/Elearning%20Institute/titanic/titanic_model.ipynb#ch0000020?line=0'>1</a>\u001b[0m logreg \u001b[39m=\u001b[39m LogisticRegression()\n\u001b[1;32m----> <a href='vscode-notebook-cell:/c%3A/Users/Elearning%20Institute/titanic/titanic_model.ipynb#ch0000020?line=1'>2</a>\u001b[0m logreg\u001b[39m.\u001b[39;49mfit(X_train, y_train)\n\u001b[0;32m      <a href='vscode-notebook-cell:/c%3A/Users/Elearning%20Institute/titanic/titanic_model.ipynb#ch0000020?line=3'>4</a>\u001b[0m Y_pred \u001b[39m=\u001b[39m logreg\u001b[39m.\u001b[39mpredict(X_test)\n\u001b[0;32m      <a href='vscode-notebook-cell:/c%3A/Users/Elearning%20Institute/titanic/titanic_model.ipynb#ch0000020?line=5'>6</a>\u001b[0m acc_log \u001b[39m=\u001b[39m \u001b[39mround\u001b[39m(logreg\u001b[39m.\u001b[39mscore(X_train, y_train) \u001b[39m*\u001b[39m \u001b[39m100\u001b[39m, \u001b[39m2\u001b[39m)\n",
      "File \u001b[1;32mc:\\Users\\Elearning Institute\\titanic\\titanic_regression\\lib\\site-packages\\sklearn\\linear_model\\_logistic.py:1138\u001b[0m, in \u001b[0;36mLogisticRegression.fit\u001b[1;34m(self, X, y, sample_weight)\u001b[0m\n\u001b[0;32m   <a href='file:///c%3A/Users/Elearning%20Institute/titanic/titanic_regression/lib/site-packages/sklearn/linear_model/_logistic.py?line=1134'>1135</a>\u001b[0m \u001b[39melse\u001b[39;00m:\n\u001b[0;32m   <a href='file:///c%3A/Users/Elearning%20Institute/titanic/titanic_regression/lib/site-packages/sklearn/linear_model/_logistic.py?line=1135'>1136</a>\u001b[0m     _dtype \u001b[39m=\u001b[39m [np\u001b[39m.\u001b[39mfloat64, np\u001b[39m.\u001b[39mfloat32]\n\u001b[1;32m-> <a href='file:///c%3A/Users/Elearning%20Institute/titanic/titanic_regression/lib/site-packages/sklearn/linear_model/_logistic.py?line=1137'>1138</a>\u001b[0m X, y \u001b[39m=\u001b[39m \u001b[39mself\u001b[39;49m\u001b[39m.\u001b[39;49m_validate_data(\n\u001b[0;32m   <a href='file:///c%3A/Users/Elearning%20Institute/titanic/titanic_regression/lib/site-packages/sklearn/linear_model/_logistic.py?line=1138'>1139</a>\u001b[0m     X,\n\u001b[0;32m   <a href='file:///c%3A/Users/Elearning%20Institute/titanic/titanic_regression/lib/site-packages/sklearn/linear_model/_logistic.py?line=1139'>1140</a>\u001b[0m     y,\n\u001b[0;32m   <a href='file:///c%3A/Users/Elearning%20Institute/titanic/titanic_regression/lib/site-packages/sklearn/linear_model/_logistic.py?line=1140'>1141</a>\u001b[0m     accept_sparse\u001b[39m=\u001b[39;49m\u001b[39m\"\u001b[39;49m\u001b[39mcsr\u001b[39;49m\u001b[39m\"\u001b[39;49m,\n\u001b[0;32m   <a href='file:///c%3A/Users/Elearning%20Institute/titanic/titanic_regression/lib/site-packages/sklearn/linear_model/_logistic.py?line=1141'>1142</a>\u001b[0m     dtype\u001b[39m=\u001b[39;49m_dtype,\n\u001b[0;32m   <a href='file:///c%3A/Users/Elearning%20Institute/titanic/titanic_regression/lib/site-packages/sklearn/linear_model/_logistic.py?line=1142'>1143</a>\u001b[0m     order\u001b[39m=\u001b[39;49m\u001b[39m\"\u001b[39;49m\u001b[39mC\u001b[39;49m\u001b[39m\"\u001b[39;49m,\n\u001b[0;32m   <a href='file:///c%3A/Users/Elearning%20Institute/titanic/titanic_regression/lib/site-packages/sklearn/linear_model/_logistic.py?line=1143'>1144</a>\u001b[0m     accept_large_sparse\u001b[39m=\u001b[39;49msolver \u001b[39mnot\u001b[39;49;00m \u001b[39min\u001b[39;49;00m [\u001b[39m\"\u001b[39;49m\u001b[39mliblinear\u001b[39;49m\u001b[39m\"\u001b[39;49m, \u001b[39m\"\u001b[39;49m\u001b[39msag\u001b[39;49m\u001b[39m\"\u001b[39;49m, \u001b[39m\"\u001b[39;49m\u001b[39msaga\u001b[39;49m\u001b[39m\"\u001b[39;49m],\n\u001b[0;32m   <a href='file:///c%3A/Users/Elearning%20Institute/titanic/titanic_regression/lib/site-packages/sklearn/linear_model/_logistic.py?line=1144'>1145</a>\u001b[0m )\n\u001b[0;32m   <a href='file:///c%3A/Users/Elearning%20Institute/titanic/titanic_regression/lib/site-packages/sklearn/linear_model/_logistic.py?line=1145'>1146</a>\u001b[0m check_classification_targets(y)\n\u001b[0;32m   <a href='file:///c%3A/Users/Elearning%20Institute/titanic/titanic_regression/lib/site-packages/sklearn/linear_model/_logistic.py?line=1146'>1147</a>\u001b[0m \u001b[39mself\u001b[39m\u001b[39m.\u001b[39mclasses_ \u001b[39m=\u001b[39m np\u001b[39m.\u001b[39munique(y)\n",
      "File \u001b[1;32mc:\\Users\\Elearning Institute\\titanic\\titanic_regression\\lib\\site-packages\\sklearn\\base.py:596\u001b[0m, in \u001b[0;36mBaseEstimator._validate_data\u001b[1;34m(self, X, y, reset, validate_separately, **check_params)\u001b[0m\n\u001b[0;32m    <a href='file:///c%3A/Users/Elearning%20Institute/titanic/titanic_regression/lib/site-packages/sklearn/base.py?line=593'>594</a>\u001b[0m         y \u001b[39m=\u001b[39m check_array(y, input_name\u001b[39m=\u001b[39m\u001b[39m\"\u001b[39m\u001b[39my\u001b[39m\u001b[39m\"\u001b[39m, \u001b[39m*\u001b[39m\u001b[39m*\u001b[39mcheck_y_params)\n\u001b[0;32m    <a href='file:///c%3A/Users/Elearning%20Institute/titanic/titanic_regression/lib/site-packages/sklearn/base.py?line=594'>595</a>\u001b[0m     \u001b[39melse\u001b[39;00m:\n\u001b[1;32m--> <a href='file:///c%3A/Users/Elearning%20Institute/titanic/titanic_regression/lib/site-packages/sklearn/base.py?line=595'>596</a>\u001b[0m         X, y \u001b[39m=\u001b[39m check_X_y(X, y, \u001b[39m*\u001b[39m\u001b[39m*\u001b[39mcheck_params)\n\u001b[0;32m    <a href='file:///c%3A/Users/Elearning%20Institute/titanic/titanic_regression/lib/site-packages/sklearn/base.py?line=596'>597</a>\u001b[0m     out \u001b[39m=\u001b[39m X, y\n\u001b[0;32m    <a href='file:///c%3A/Users/Elearning%20Institute/titanic/titanic_regression/lib/site-packages/sklearn/base.py?line=598'>599</a>\u001b[0m \u001b[39mif\u001b[39;00m \u001b[39mnot\u001b[39;00m no_val_X \u001b[39mand\u001b[39;00m check_params\u001b[39m.\u001b[39mget(\u001b[39m\"\u001b[39m\u001b[39mensure_2d\u001b[39m\u001b[39m\"\u001b[39m, \u001b[39mTrue\u001b[39;00m):\n",
      "File \u001b[1;32mc:\\Users\\Elearning Institute\\titanic\\titanic_regression\\lib\\site-packages\\sklearn\\utils\\validation.py:1074\u001b[0m, in \u001b[0;36mcheck_X_y\u001b[1;34m(X, y, accept_sparse, accept_large_sparse, dtype, order, copy, force_all_finite, ensure_2d, allow_nd, multi_output, ensure_min_samples, ensure_min_features, y_numeric, estimator)\u001b[0m\n\u001b[0;32m   <a href='file:///c%3A/Users/Elearning%20Institute/titanic/titanic_regression/lib/site-packages/sklearn/utils/validation.py?line=1068'>1069</a>\u001b[0m         estimator_name \u001b[39m=\u001b[39m _check_estimator_name(estimator)\n\u001b[0;32m   <a href='file:///c%3A/Users/Elearning%20Institute/titanic/titanic_regression/lib/site-packages/sklearn/utils/validation.py?line=1069'>1070</a>\u001b[0m     \u001b[39mraise\u001b[39;00m \u001b[39mValueError\u001b[39;00m(\n\u001b[0;32m   <a href='file:///c%3A/Users/Elearning%20Institute/titanic/titanic_regression/lib/site-packages/sklearn/utils/validation.py?line=1070'>1071</a>\u001b[0m         \u001b[39mf\u001b[39m\u001b[39m\"\u001b[39m\u001b[39m{\u001b[39;00mestimator_name\u001b[39m}\u001b[39;00m\u001b[39m requires y to be passed, but the target y is None\u001b[39m\u001b[39m\"\u001b[39m\n\u001b[0;32m   <a href='file:///c%3A/Users/Elearning%20Institute/titanic/titanic_regression/lib/site-packages/sklearn/utils/validation.py?line=1071'>1072</a>\u001b[0m     )\n\u001b[1;32m-> <a href='file:///c%3A/Users/Elearning%20Institute/titanic/titanic_regression/lib/site-packages/sklearn/utils/validation.py?line=1073'>1074</a>\u001b[0m X \u001b[39m=\u001b[39m check_array(\n\u001b[0;32m   <a href='file:///c%3A/Users/Elearning%20Institute/titanic/titanic_regression/lib/site-packages/sklearn/utils/validation.py?line=1074'>1075</a>\u001b[0m     X,\n\u001b[0;32m   <a href='file:///c%3A/Users/Elearning%20Institute/titanic/titanic_regression/lib/site-packages/sklearn/utils/validation.py?line=1075'>1076</a>\u001b[0m     accept_sparse\u001b[39m=\u001b[39;49maccept_sparse,\n\u001b[0;32m   <a href='file:///c%3A/Users/Elearning%20Institute/titanic/titanic_regression/lib/site-packages/sklearn/utils/validation.py?line=1076'>1077</a>\u001b[0m     accept_large_sparse\u001b[39m=\u001b[39;49maccept_large_sparse,\n\u001b[0;32m   <a href='file:///c%3A/Users/Elearning%20Institute/titanic/titanic_regression/lib/site-packages/sklearn/utils/validation.py?line=1077'>1078</a>\u001b[0m     dtype\u001b[39m=\u001b[39;49mdtype,\n\u001b[0;32m   <a href='file:///c%3A/Users/Elearning%20Institute/titanic/titanic_regression/lib/site-packages/sklearn/utils/validation.py?line=1078'>1079</a>\u001b[0m     order\u001b[39m=\u001b[39;49morder,\n\u001b[0;32m   <a href='file:///c%3A/Users/Elearning%20Institute/titanic/titanic_regression/lib/site-packages/sklearn/utils/validation.py?line=1079'>1080</a>\u001b[0m     copy\u001b[39m=\u001b[39;49mcopy,\n\u001b[0;32m   <a href='file:///c%3A/Users/Elearning%20Institute/titanic/titanic_regression/lib/site-packages/sklearn/utils/validation.py?line=1080'>1081</a>\u001b[0m     force_all_finite\u001b[39m=\u001b[39;49mforce_all_finite,\n\u001b[0;32m   <a href='file:///c%3A/Users/Elearning%20Institute/titanic/titanic_regression/lib/site-packages/sklearn/utils/validation.py?line=1081'>1082</a>\u001b[0m     ensure_2d\u001b[39m=\u001b[39;49mensure_2d,\n\u001b[0;32m   <a href='file:///c%3A/Users/Elearning%20Institute/titanic/titanic_regression/lib/site-packages/sklearn/utils/validation.py?line=1082'>1083</a>\u001b[0m     allow_nd\u001b[39m=\u001b[39;49mallow_nd,\n\u001b[0;32m   <a href='file:///c%3A/Users/Elearning%20Institute/titanic/titanic_regression/lib/site-packages/sklearn/utils/validation.py?line=1083'>1084</a>\u001b[0m     ensure_min_samples\u001b[39m=\u001b[39;49mensure_min_samples,\n\u001b[0;32m   <a href='file:///c%3A/Users/Elearning%20Institute/titanic/titanic_regression/lib/site-packages/sklearn/utils/validation.py?line=1084'>1085</a>\u001b[0m     ensure_min_features\u001b[39m=\u001b[39;49mensure_min_features,\n\u001b[0;32m   <a href='file:///c%3A/Users/Elearning%20Institute/titanic/titanic_regression/lib/site-packages/sklearn/utils/validation.py?line=1085'>1086</a>\u001b[0m     estimator\u001b[39m=\u001b[39;49mestimator,\n\u001b[0;32m   <a href='file:///c%3A/Users/Elearning%20Institute/titanic/titanic_regression/lib/site-packages/sklearn/utils/validation.py?line=1086'>1087</a>\u001b[0m     input_name\u001b[39m=\u001b[39;49m\u001b[39m\"\u001b[39;49m\u001b[39mX\u001b[39;49m\u001b[39m\"\u001b[39;49m,\n\u001b[0;32m   <a href='file:///c%3A/Users/Elearning%20Institute/titanic/titanic_regression/lib/site-packages/sklearn/utils/validation.py?line=1087'>1088</a>\u001b[0m )\n\u001b[0;32m   <a href='file:///c%3A/Users/Elearning%20Institute/titanic/titanic_regression/lib/site-packages/sklearn/utils/validation.py?line=1089'>1090</a>\u001b[0m y \u001b[39m=\u001b[39m _check_y(y, multi_output\u001b[39m=\u001b[39mmulti_output, y_numeric\u001b[39m=\u001b[39my_numeric, estimator\u001b[39m=\u001b[39mestimator)\n\u001b[0;32m   <a href='file:///c%3A/Users/Elearning%20Institute/titanic/titanic_regression/lib/site-packages/sklearn/utils/validation.py?line=1091'>1092</a>\u001b[0m check_consistent_length(X, y)\n",
      "File \u001b[1;32mc:\\Users\\Elearning Institute\\titanic\\titanic_regression\\lib\\site-packages\\sklearn\\utils\\validation.py:899\u001b[0m, in \u001b[0;36mcheck_array\u001b[1;34m(array, accept_sparse, accept_large_sparse, dtype, order, copy, force_all_finite, ensure_2d, allow_nd, ensure_min_samples, ensure_min_features, estimator, input_name)\u001b[0m\n\u001b[0;32m    <a href='file:///c%3A/Users/Elearning%20Institute/titanic/titanic_regression/lib/site-packages/sklearn/utils/validation.py?line=892'>893</a>\u001b[0m         \u001b[39mraise\u001b[39;00m \u001b[39mValueError\u001b[39;00m(\n\u001b[0;32m    <a href='file:///c%3A/Users/Elearning%20Institute/titanic/titanic_regression/lib/site-packages/sklearn/utils/validation.py?line=893'>894</a>\u001b[0m             \u001b[39m\"\u001b[39m\u001b[39mFound array with dim \u001b[39m\u001b[39m%d\u001b[39;00m\u001b[39m. \u001b[39m\u001b[39m%s\u001b[39;00m\u001b[39m expected <= 2.\u001b[39m\u001b[39m\"\u001b[39m\n\u001b[0;32m    <a href='file:///c%3A/Users/Elearning%20Institute/titanic/titanic_regression/lib/site-packages/sklearn/utils/validation.py?line=894'>895</a>\u001b[0m             \u001b[39m%\u001b[39m (array\u001b[39m.\u001b[39mndim, estimator_name)\n\u001b[0;32m    <a href='file:///c%3A/Users/Elearning%20Institute/titanic/titanic_regression/lib/site-packages/sklearn/utils/validation.py?line=895'>896</a>\u001b[0m         )\n\u001b[0;32m    <a href='file:///c%3A/Users/Elearning%20Institute/titanic/titanic_regression/lib/site-packages/sklearn/utils/validation.py?line=897'>898</a>\u001b[0m     \u001b[39mif\u001b[39;00m force_all_finite:\n\u001b[1;32m--> <a href='file:///c%3A/Users/Elearning%20Institute/titanic/titanic_regression/lib/site-packages/sklearn/utils/validation.py?line=898'>899</a>\u001b[0m         _assert_all_finite(\n\u001b[0;32m    <a href='file:///c%3A/Users/Elearning%20Institute/titanic/titanic_regression/lib/site-packages/sklearn/utils/validation.py?line=899'>900</a>\u001b[0m             array,\n\u001b[0;32m    <a href='file:///c%3A/Users/Elearning%20Institute/titanic/titanic_regression/lib/site-packages/sklearn/utils/validation.py?line=900'>901</a>\u001b[0m             input_name\u001b[39m=\u001b[39;49minput_name,\n\u001b[0;32m    <a href='file:///c%3A/Users/Elearning%20Institute/titanic/titanic_regression/lib/site-packages/sklearn/utils/validation.py?line=901'>902</a>\u001b[0m             estimator_name\u001b[39m=\u001b[39;49mestimator_name,\n\u001b[0;32m    <a href='file:///c%3A/Users/Elearning%20Institute/titanic/titanic_regression/lib/site-packages/sklearn/utils/validation.py?line=902'>903</a>\u001b[0m             allow_nan\u001b[39m=\u001b[39;49mforce_all_finite \u001b[39m==\u001b[39;49m \u001b[39m\"\u001b[39;49m\u001b[39mallow-nan\u001b[39;49m\u001b[39m\"\u001b[39;49m,\n\u001b[0;32m    <a href='file:///c%3A/Users/Elearning%20Institute/titanic/titanic_regression/lib/site-packages/sklearn/utils/validation.py?line=903'>904</a>\u001b[0m         )\n\u001b[0;32m    <a href='file:///c%3A/Users/Elearning%20Institute/titanic/titanic_regression/lib/site-packages/sklearn/utils/validation.py?line=905'>906</a>\u001b[0m \u001b[39mif\u001b[39;00m ensure_min_samples \u001b[39m>\u001b[39m \u001b[39m0\u001b[39m:\n\u001b[0;32m    <a href='file:///c%3A/Users/Elearning%20Institute/titanic/titanic_regression/lib/site-packages/sklearn/utils/validation.py?line=906'>907</a>\u001b[0m     n_samples \u001b[39m=\u001b[39m _num_samples(array)\n",
      "File \u001b[1;32mc:\\Users\\Elearning Institute\\titanic\\titanic_regression\\lib\\site-packages\\sklearn\\utils\\validation.py:146\u001b[0m, in \u001b[0;36m_assert_all_finite\u001b[1;34m(X, allow_nan, msg_dtype, estimator_name, input_name)\u001b[0m\n\u001b[0;32m    <a href='file:///c%3A/Users/Elearning%20Institute/titanic/titanic_regression/lib/site-packages/sklearn/utils/validation.py?line=123'>124</a>\u001b[0m         \u001b[39mif\u001b[39;00m (\n\u001b[0;32m    <a href='file:///c%3A/Users/Elearning%20Institute/titanic/titanic_regression/lib/site-packages/sklearn/utils/validation.py?line=124'>125</a>\u001b[0m             \u001b[39mnot\u001b[39;00m allow_nan\n\u001b[0;32m    <a href='file:///c%3A/Users/Elearning%20Institute/titanic/titanic_regression/lib/site-packages/sklearn/utils/validation.py?line=125'>126</a>\u001b[0m             \u001b[39mand\u001b[39;00m estimator_name\n\u001b[1;32m   (...)\u001b[0m\n\u001b[0;32m    <a href='file:///c%3A/Users/Elearning%20Institute/titanic/titanic_regression/lib/site-packages/sklearn/utils/validation.py?line=129'>130</a>\u001b[0m             \u001b[39m# Improve the error message on how to handle missing values in\u001b[39;00m\n\u001b[0;32m    <a href='file:///c%3A/Users/Elearning%20Institute/titanic/titanic_regression/lib/site-packages/sklearn/utils/validation.py?line=130'>131</a>\u001b[0m             \u001b[39m# scikit-learn.\u001b[39;00m\n\u001b[0;32m    <a href='file:///c%3A/Users/Elearning%20Institute/titanic/titanic_regression/lib/site-packages/sklearn/utils/validation.py?line=131'>132</a>\u001b[0m             msg_err \u001b[39m+\u001b[39m\u001b[39m=\u001b[39m (\n\u001b[0;32m    <a href='file:///c%3A/Users/Elearning%20Institute/titanic/titanic_regression/lib/site-packages/sklearn/utils/validation.py?line=132'>133</a>\u001b[0m                 \u001b[39mf\u001b[39m\u001b[39m\"\u001b[39m\u001b[39m\\n\u001b[39;00m\u001b[39m{\u001b[39;00mestimator_name\u001b[39m}\u001b[39;00m\u001b[39m does not accept missing values\u001b[39m\u001b[39m\"\u001b[39m\n\u001b[0;32m    <a href='file:///c%3A/Users/Elearning%20Institute/titanic/titanic_regression/lib/site-packages/sklearn/utils/validation.py?line=133'>134</a>\u001b[0m                 \u001b[39m\"\u001b[39m\u001b[39m encoded as NaN natively. For supervised learning, you might want\u001b[39m\u001b[39m\"\u001b[39m\n\u001b[1;32m   (...)\u001b[0m\n\u001b[0;32m    <a href='file:///c%3A/Users/Elearning%20Institute/titanic/titanic_regression/lib/site-packages/sklearn/utils/validation.py?line=143'>144</a>\u001b[0m                 \u001b[39m\"\u001b[39m\u001b[39m#estimators-that-handle-nan-values\u001b[39m\u001b[39m\"\u001b[39m\n\u001b[0;32m    <a href='file:///c%3A/Users/Elearning%20Institute/titanic/titanic_regression/lib/site-packages/sklearn/utils/validation.py?line=144'>145</a>\u001b[0m             )\n\u001b[1;32m--> <a href='file:///c%3A/Users/Elearning%20Institute/titanic/titanic_regression/lib/site-packages/sklearn/utils/validation.py?line=145'>146</a>\u001b[0m         \u001b[39mraise\u001b[39;00m \u001b[39mValueError\u001b[39;00m(msg_err)\n\u001b[0;32m    <a href='file:///c%3A/Users/Elearning%20Institute/titanic/titanic_regression/lib/site-packages/sklearn/utils/validation.py?line=147'>148</a>\u001b[0m \u001b[39m# for object dtype data, we only check for NaNs (GH-13254)\u001b[39;00m\n\u001b[0;32m    <a href='file:///c%3A/Users/Elearning%20Institute/titanic/titanic_regression/lib/site-packages/sklearn/utils/validation.py?line=148'>149</a>\u001b[0m \u001b[39melif\u001b[39;00m X\u001b[39m.\u001b[39mdtype \u001b[39m==\u001b[39m np\u001b[39m.\u001b[39mdtype(\u001b[39m\"\u001b[39m\u001b[39mobject\u001b[39m\u001b[39m\"\u001b[39m) \u001b[39mand\u001b[39;00m \u001b[39mnot\u001b[39;00m allow_nan:\n",
      "\u001b[1;31mValueError\u001b[0m: Input X contains NaN.\nLogisticRegression does not accept missing values encoded as NaN natively. For supervised learning, you might want to consider sklearn.ensemble.HistGradientBoostingClassifier and Regressor which accept missing values encoded as NaNs natively. Alternatively, it is possible to preprocess the data, for instance by using an imputer transformer in a pipeline or drop samples with missing values. See https://scikit-learn.org/stable/modules/impute.html You can find a list of all estimators that handle NaN values at the following page: https://scikit-learn.org/stable/modules/impute.html#estimators-that-handle-nan-values"
     ]
    }
   ],
   "source": [
    "logreg = LogisticRegression()\n",
    "logreg.fit(X_train, y_train)\n",
    "\n",
    "Y_pred = logreg.predict(X_test)\n",
    "\n",
    "acc_log = round(logreg.score(X_train, y_train) * 100, 2)"
   ]
  },
  {
   "cell_type": "code",
   "execution_count": null,
   "metadata": {},
   "outputs": [
    {
     "ename": "ValueError",
     "evalue": "y should be a 1d array, got an array of shape (268, 8) instead.",
     "output_type": "error",
     "traceback": [
      "\u001b[1;31m---------------------------------------------------------------------------\u001b[0m",
      "\u001b[1;31mValueError\u001b[0m                                Traceback (most recent call last)",
      "\u001b[1;32mc:\\Users\\Elearning Institute\\titanic\\titanic_model.ipynb Cell 22'\u001b[0m in \u001b[0;36m<cell line: 2>\u001b[1;34m()\u001b[0m\n\u001b[0;32m      <a href='vscode-notebook-cell:/c%3A/Users/Elearning%20Institute/titanic/titanic_model.ipynb#ch0000056?line=0'>1</a>\u001b[0m sgd \u001b[39m=\u001b[39m SGDClassifier(max_iter\u001b[39m=\u001b[39m\u001b[39m5\u001b[39m, tol\u001b[39m=\u001b[39m\u001b[39mNone\u001b[39;00m)\n\u001b[1;32m----> <a href='vscode-notebook-cell:/c%3A/Users/Elearning%20Institute/titanic/titanic_model.ipynb#ch0000056?line=1'>2</a>\u001b[0m sgd\u001b[39m.\u001b[39;49mfit(X_train, y_train)\n\u001b[0;32m      <a href='vscode-notebook-cell:/c%3A/Users/Elearning%20Institute/titanic/titanic_model.ipynb#ch0000056?line=2'>3</a>\u001b[0m y_predict \u001b[39m=\u001b[39m sgd\u001b[39m.\u001b[39mpredict(X_test)\n\u001b[0;32m      <a href='vscode-notebook-cell:/c%3A/Users/Elearning%20Institute/titanic/titanic_model.ipynb#ch0000056?line=4'>5</a>\u001b[0m sgd\u001b[39m.\u001b[39mscore(X_train, y_train)\n",
      "File \u001b[1;32mc:\\Users\\Elearning Institute\\titanic\\titanic_regression\\lib\\site-packages\\sklearn\\linear_model\\_stochastic_gradient.py:890\u001b[0m, in \u001b[0;36mBaseSGDClassifier.fit\u001b[1;34m(self, X, y, coef_init, intercept_init, sample_weight)\u001b[0m\n\u001b[0;32m    <a href='file:///c%3A/Users/Elearning%20Institute/titanic/titanic_regression/lib/site-packages/sklearn/linear_model/_stochastic_gradient.py?line=861'>862</a>\u001b[0m \u001b[39mdef\u001b[39;00m \u001b[39mfit\u001b[39m(\u001b[39mself\u001b[39m, X, y, coef_init\u001b[39m=\u001b[39m\u001b[39mNone\u001b[39;00m, intercept_init\u001b[39m=\u001b[39m\u001b[39mNone\u001b[39;00m, sample_weight\u001b[39m=\u001b[39m\u001b[39mNone\u001b[39;00m):\n\u001b[0;32m    <a href='file:///c%3A/Users/Elearning%20Institute/titanic/titanic_regression/lib/site-packages/sklearn/linear_model/_stochastic_gradient.py?line=862'>863</a>\u001b[0m     \u001b[39m\"\"\"Fit linear model with Stochastic Gradient Descent.\u001b[39;00m\n\u001b[0;32m    <a href='file:///c%3A/Users/Elearning%20Institute/titanic/titanic_regression/lib/site-packages/sklearn/linear_model/_stochastic_gradient.py?line=863'>864</a>\u001b[0m \n\u001b[0;32m    <a href='file:///c%3A/Users/Elearning%20Institute/titanic/titanic_regression/lib/site-packages/sklearn/linear_model/_stochastic_gradient.py?line=864'>865</a>\u001b[0m \u001b[39m    Parameters\u001b[39;00m\n\u001b[1;32m   (...)\u001b[0m\n\u001b[0;32m    <a href='file:///c%3A/Users/Elearning%20Institute/titanic/titanic_regression/lib/site-packages/sklearn/linear_model/_stochastic_gradient.py?line=887'>888</a>\u001b[0m \u001b[39m        Returns an instance of self.\u001b[39;00m\n\u001b[0;32m    <a href='file:///c%3A/Users/Elearning%20Institute/titanic/titanic_regression/lib/site-packages/sklearn/linear_model/_stochastic_gradient.py?line=888'>889</a>\u001b[0m \u001b[39m    \"\"\"\u001b[39;00m\n\u001b[1;32m--> <a href='file:///c%3A/Users/Elearning%20Institute/titanic/titanic_regression/lib/site-packages/sklearn/linear_model/_stochastic_gradient.py?line=889'>890</a>\u001b[0m     \u001b[39mreturn\u001b[39;00m \u001b[39mself\u001b[39;49m\u001b[39m.\u001b[39;49m_fit(\n\u001b[0;32m    <a href='file:///c%3A/Users/Elearning%20Institute/titanic/titanic_regression/lib/site-packages/sklearn/linear_model/_stochastic_gradient.py?line=890'>891</a>\u001b[0m         X,\n\u001b[0;32m    <a href='file:///c%3A/Users/Elearning%20Institute/titanic/titanic_regression/lib/site-packages/sklearn/linear_model/_stochastic_gradient.py?line=891'>892</a>\u001b[0m         y,\n\u001b[0;32m    <a href='file:///c%3A/Users/Elearning%20Institute/titanic/titanic_regression/lib/site-packages/sklearn/linear_model/_stochastic_gradient.py?line=892'>893</a>\u001b[0m         alpha\u001b[39m=\u001b[39;49m\u001b[39mself\u001b[39;49m\u001b[39m.\u001b[39;49malpha,\n\u001b[0;32m    <a href='file:///c%3A/Users/Elearning%20Institute/titanic/titanic_regression/lib/site-packages/sklearn/linear_model/_stochastic_gradient.py?line=893'>894</a>\u001b[0m         C\u001b[39m=\u001b[39;49m\u001b[39m1.0\u001b[39;49m,\n\u001b[0;32m    <a href='file:///c%3A/Users/Elearning%20Institute/titanic/titanic_regression/lib/site-packages/sklearn/linear_model/_stochastic_gradient.py?line=894'>895</a>\u001b[0m         loss\u001b[39m=\u001b[39;49m\u001b[39mself\u001b[39;49m\u001b[39m.\u001b[39;49mloss,\n\u001b[0;32m    <a href='file:///c%3A/Users/Elearning%20Institute/titanic/titanic_regression/lib/site-packages/sklearn/linear_model/_stochastic_gradient.py?line=895'>896</a>\u001b[0m         learning_rate\u001b[39m=\u001b[39;49m\u001b[39mself\u001b[39;49m\u001b[39m.\u001b[39;49mlearning_rate,\n\u001b[0;32m    <a href='file:///c%3A/Users/Elearning%20Institute/titanic/titanic_regression/lib/site-packages/sklearn/linear_model/_stochastic_gradient.py?line=896'>897</a>\u001b[0m         coef_init\u001b[39m=\u001b[39;49mcoef_init,\n\u001b[0;32m    <a href='file:///c%3A/Users/Elearning%20Institute/titanic/titanic_regression/lib/site-packages/sklearn/linear_model/_stochastic_gradient.py?line=897'>898</a>\u001b[0m         intercept_init\u001b[39m=\u001b[39;49mintercept_init,\n\u001b[0;32m    <a href='file:///c%3A/Users/Elearning%20Institute/titanic/titanic_regression/lib/site-packages/sklearn/linear_model/_stochastic_gradient.py?line=898'>899</a>\u001b[0m         sample_weight\u001b[39m=\u001b[39;49msample_weight,\n\u001b[0;32m    <a href='file:///c%3A/Users/Elearning%20Institute/titanic/titanic_regression/lib/site-packages/sklearn/linear_model/_stochastic_gradient.py?line=899'>900</a>\u001b[0m     )\n",
      "File \u001b[1;32mc:\\Users\\Elearning Institute\\titanic\\titanic_regression\\lib\\site-packages\\sklearn\\linear_model\\_stochastic_gradient.py:665\u001b[0m, in \u001b[0;36mBaseSGDClassifier._fit\u001b[1;34m(self, X, y, alpha, C, loss, learning_rate, coef_init, intercept_init, sample_weight)\u001b[0m\n\u001b[0;32m    <a href='file:///c%3A/Users/Elearning%20Institute/titanic/titanic_regression/lib/site-packages/sklearn/linear_model/_stochastic_gradient.py?line=660'>661</a>\u001b[0m     \u001b[39mdelattr\u001b[39m(\u001b[39mself\u001b[39m, \u001b[39m\"\u001b[39m\u001b[39mclasses_\u001b[39m\u001b[39m\"\u001b[39m)\n\u001b[0;32m    <a href='file:///c%3A/Users/Elearning%20Institute/titanic/titanic_regression/lib/site-packages/sklearn/linear_model/_stochastic_gradient.py?line=662'>663</a>\u001b[0m \u001b[39m# labels can be encoded as float, int, or string literals\u001b[39;00m\n\u001b[0;32m    <a href='file:///c%3A/Users/Elearning%20Institute/titanic/titanic_regression/lib/site-packages/sklearn/linear_model/_stochastic_gradient.py?line=663'>664</a>\u001b[0m \u001b[39m# np.unique sorts in asc order; largest class id is positive class\u001b[39;00m\n\u001b[1;32m--> <a href='file:///c%3A/Users/Elearning%20Institute/titanic/titanic_regression/lib/site-packages/sklearn/linear_model/_stochastic_gradient.py?line=664'>665</a>\u001b[0m y \u001b[39m=\u001b[39m \u001b[39mself\u001b[39;49m\u001b[39m.\u001b[39;49m_validate_data(y\u001b[39m=\u001b[39;49my)\n\u001b[0;32m    <a href='file:///c%3A/Users/Elearning%20Institute/titanic/titanic_regression/lib/site-packages/sklearn/linear_model/_stochastic_gradient.py?line=665'>666</a>\u001b[0m classes \u001b[39m=\u001b[39m np\u001b[39m.\u001b[39munique(y)\n\u001b[0;32m    <a href='file:///c%3A/Users/Elearning%20Institute/titanic/titanic_regression/lib/site-packages/sklearn/linear_model/_stochastic_gradient.py?line=667'>668</a>\u001b[0m \u001b[39mif\u001b[39;00m \u001b[39mself\u001b[39m\u001b[39m.\u001b[39mwarm_start \u001b[39mand\u001b[39;00m \u001b[39mhasattr\u001b[39m(\u001b[39mself\u001b[39m, \u001b[39m\"\u001b[39m\u001b[39mcoef_\u001b[39m\u001b[39m\"\u001b[39m):\n",
      "File \u001b[1;32mc:\\Users\\Elearning Institute\\titanic\\titanic_regression\\lib\\site-packages\\sklearn\\base.py:580\u001b[0m, in \u001b[0;36mBaseEstimator._validate_data\u001b[1;34m(self, X, y, reset, validate_separately, **check_params)\u001b[0m\n\u001b[0;32m    <a href='file:///c%3A/Users/Elearning%20Institute/titanic/titanic_regression/lib/site-packages/sklearn/base.py?line=577'>578</a>\u001b[0m     out \u001b[39m=\u001b[39m X\n\u001b[0;32m    <a href='file:///c%3A/Users/Elearning%20Institute/titanic/titanic_regression/lib/site-packages/sklearn/base.py?line=578'>579</a>\u001b[0m \u001b[39melif\u001b[39;00m no_val_X \u001b[39mand\u001b[39;00m \u001b[39mnot\u001b[39;00m no_val_y:\n\u001b[1;32m--> <a href='file:///c%3A/Users/Elearning%20Institute/titanic/titanic_regression/lib/site-packages/sklearn/base.py?line=579'>580</a>\u001b[0m     y \u001b[39m=\u001b[39m _check_y(y, \u001b[39m*\u001b[39m\u001b[39m*\u001b[39mcheck_params)\n\u001b[0;32m    <a href='file:///c%3A/Users/Elearning%20Institute/titanic/titanic_regression/lib/site-packages/sklearn/base.py?line=580'>581</a>\u001b[0m     out \u001b[39m=\u001b[39m y\n\u001b[0;32m    <a href='file:///c%3A/Users/Elearning%20Institute/titanic/titanic_regression/lib/site-packages/sklearn/base.py?line=581'>582</a>\u001b[0m \u001b[39melse\u001b[39;00m:\n",
      "File \u001b[1;32mc:\\Users\\Elearning Institute\\titanic\\titanic_regression\\lib\\site-packages\\sklearn\\utils\\validation.py:1111\u001b[0m, in \u001b[0;36m_check_y\u001b[1;34m(y, multi_output, y_numeric, estimator)\u001b[0m\n\u001b[0;32m   <a href='file:///c%3A/Users/Elearning%20Institute/titanic/titanic_regression/lib/site-packages/sklearn/utils/validation.py?line=1108'>1109</a>\u001b[0m \u001b[39melse\u001b[39;00m:\n\u001b[0;32m   <a href='file:///c%3A/Users/Elearning%20Institute/titanic/titanic_regression/lib/site-packages/sklearn/utils/validation.py?line=1109'>1110</a>\u001b[0m     estimator_name \u001b[39m=\u001b[39m _check_estimator_name(estimator)\n\u001b[1;32m-> <a href='file:///c%3A/Users/Elearning%20Institute/titanic/titanic_regression/lib/site-packages/sklearn/utils/validation.py?line=1110'>1111</a>\u001b[0m     y \u001b[39m=\u001b[39m column_or_1d(y, warn\u001b[39m=\u001b[39;49m\u001b[39mTrue\u001b[39;49;00m)\n\u001b[0;32m   <a href='file:///c%3A/Users/Elearning%20Institute/titanic/titanic_regression/lib/site-packages/sklearn/utils/validation.py?line=1111'>1112</a>\u001b[0m     _assert_all_finite(y, input_name\u001b[39m=\u001b[39m\u001b[39m\"\u001b[39m\u001b[39my\u001b[39m\u001b[39m\"\u001b[39m, estimator_name\u001b[39m=\u001b[39mestimator_name)\n\u001b[0;32m   <a href='file:///c%3A/Users/Elearning%20Institute/titanic/titanic_regression/lib/site-packages/sklearn/utils/validation.py?line=1112'>1113</a>\u001b[0m     _ensure_no_complex_data(y)\n",
      "File \u001b[1;32mc:\\Users\\Elearning Institute\\titanic\\titanic_regression\\lib\\site-packages\\sklearn\\utils\\validation.py:1156\u001b[0m, in \u001b[0;36mcolumn_or_1d\u001b[1;34m(y, warn)\u001b[0m\n\u001b[0;32m   <a href='file:///c%3A/Users/Elearning%20Institute/titanic/titanic_regression/lib/site-packages/sklearn/utils/validation.py?line=1146'>1147</a>\u001b[0m         warnings\u001b[39m.\u001b[39mwarn(\n\u001b[0;32m   <a href='file:///c%3A/Users/Elearning%20Institute/titanic/titanic_regression/lib/site-packages/sklearn/utils/validation.py?line=1147'>1148</a>\u001b[0m             \u001b[39m\"\u001b[39m\u001b[39mA column-vector y was passed when a 1d array was\u001b[39m\u001b[39m\"\u001b[39m\n\u001b[0;32m   <a href='file:///c%3A/Users/Elearning%20Institute/titanic/titanic_regression/lib/site-packages/sklearn/utils/validation.py?line=1148'>1149</a>\u001b[0m             \u001b[39m\"\u001b[39m\u001b[39m expected. Please change the shape of y to \u001b[39m\u001b[39m\"\u001b[39m\n\u001b[1;32m   (...)\u001b[0m\n\u001b[0;32m   <a href='file:///c%3A/Users/Elearning%20Institute/titanic/titanic_regression/lib/site-packages/sklearn/utils/validation.py?line=1151'>1152</a>\u001b[0m             stacklevel\u001b[39m=\u001b[39m\u001b[39m2\u001b[39m,\n\u001b[0;32m   <a href='file:///c%3A/Users/Elearning%20Institute/titanic/titanic_regression/lib/site-packages/sklearn/utils/validation.py?line=1152'>1153</a>\u001b[0m         )\n\u001b[0;32m   <a href='file:///c%3A/Users/Elearning%20Institute/titanic/titanic_regression/lib/site-packages/sklearn/utils/validation.py?line=1153'>1154</a>\u001b[0m     \u001b[39mreturn\u001b[39;00m np\u001b[39m.\u001b[39mravel(y)\n\u001b[1;32m-> <a href='file:///c%3A/Users/Elearning%20Institute/titanic/titanic_regression/lib/site-packages/sklearn/utils/validation.py?line=1155'>1156</a>\u001b[0m \u001b[39mraise\u001b[39;00m \u001b[39mValueError\u001b[39;00m(\n\u001b[0;32m   <a href='file:///c%3A/Users/Elearning%20Institute/titanic/titanic_regression/lib/site-packages/sklearn/utils/validation.py?line=1156'>1157</a>\u001b[0m     \u001b[39m\"\u001b[39m\u001b[39my should be a 1d array, got an array of shape \u001b[39m\u001b[39m{}\u001b[39;00m\u001b[39m instead.\u001b[39m\u001b[39m\"\u001b[39m\u001b[39m.\u001b[39mformat(shape)\n\u001b[0;32m   <a href='file:///c%3A/Users/Elearning%20Institute/titanic/titanic_regression/lib/site-packages/sklearn/utils/validation.py?line=1157'>1158</a>\u001b[0m )\n",
      "\u001b[1;31mValueError\u001b[0m: y should be a 1d array, got an array of shape (268, 8) instead."
     ]
    }
   ],
   "source": [
    "sgd = SGDClassifier(max_iter=5, tol=None)\n",
    "sgd.fit(X_train, y_train)\n",
    "y_predict = sgd.predict(X_test)\n",
    "\n",
    "sgd.score(X_train, y_train)\n",
    "acc_sgd = round(sgd.score(X_train, y_train) * 100, 2)"
   ]
  },
  {
   "cell_type": "code",
   "execution_count": null,
   "metadata": {},
   "outputs": [],
   "source": []
  }
 ],
 "metadata": {
  "interpreter": {
   "hash": "5962359c191e95493c6a334eeadccfade4fe39195a6d9bd480941b08302246b5"
  },
  "kernelspec": {
   "display_name": "Python 3.9.7 ('titanic_regression': venv)",
   "language": "python",
   "name": "python3"
  },
  "language_info": {
   "codemirror_mode": {
    "name": "ipython",
    "version": 3
   },
   "file_extension": ".py",
   "mimetype": "text/x-python",
   "name": "python",
   "nbconvert_exporter": "python",
   "pygments_lexer": "ipython3",
   "version": "3.9.7"
  },
  "orig_nbformat": 4
 },
 "nbformat": 4,
 "nbformat_minor": 2
}
